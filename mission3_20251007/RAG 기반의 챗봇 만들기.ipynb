{
 "cells": [
  {
   "cell_type": "code",
   "execution_count": 1,
   "id": "6ccf7c9f",
   "metadata": {},
   "outputs": [],
   "source": [
    "import os\n",
    "api_key=os.getenv(\"OPENAI_API_KEY\")"
   ]
  },
  {
   "cell_type": "code",
   "execution_count": 3,
   "id": "c8b5d3f3-4f07-4995-91ca-a9d36207114f",
   "metadata": {},
   "outputs": [],
   "source": [
    "from langchain_community.document_loaders import PyPDFLoader\n",
    "pdf_filepath = './차세대 한국형 스마트팜 개발.pdf'\n",
    "loader = PyPDFLoader(pdf_filepath)\n",
    "data  = loader.load()"
   ]
  },
  {
   "cell_type": "code",
   "execution_count": 4,
   "id": "d2890adf-3476-4706-9685-27d8b90668ea",
   "metadata": {},
   "outputs": [],
   "source": [
    "from langchain.text_splitter import CharacterTextSplitter\n",
    "text_splitter = CharacterTextSplitter(chunk_size=1000, chunk_overlap=200)\n",
    "data = text_splitter.split_documents(data)"
   ]
  },
  {
   "cell_type": "code",
   "execution_count": 6,
   "id": "bdb28d52",
   "metadata": {},
   "outputs": [
    {
     "data": {
      "text/plain": [
       "[Document(metadata={'producer': 'Skia/PDF m51', 'creator': 'Mozilla/5.0 (Windows NT 6.1; Win64; x64) AppleWebKit/537.36 (KHTML, like Gecko) Chrome/51.0.2704.63 Safari/537.36', 'creationdate': '2018-08-23T06:06:07+00:00', 'moddate': '2018-08-23T06:06:07+00:00', 'source': './차세대 한국형 스마트팜 개발.pdf', 'total_pages': 4, 'page': 0, 'page_label': '1'}, page_content='차세대\\xa0한국형스마트팜\\xa0개발\\n국립농업과학원\\xa0농업공학부\\xa0스마트팜개발과\\xa0이현동\\xa0연구관\\n한국형\\xa0스마트팜\\xa0개발\\xa0프로젝트\\xa0!\\n우리나라\\xa0농업은\\xa0고령화와\\xa0높은\\xa0노동강도로\\xa0인해\\xa0청년인구의\\xa0유입이\\xa0어려운\\xa0구조로\\xa0타\\xa0분야보다\\xa0생산인구\\xa0절벽화가\\xa0더욱\\n가시화되고\\xa0있다.\\xa0이에\\xa0대한\\xa0대안으로\\xa0제시되고\\xa0있는\\xa0스마트팜은\\xa0사물인터넷,\\xa0빅데이터,\\xa0인공지능,\\xa0로봇\\xa0등을\\xa0활용하여\\n농산물의\\xa0생육환경을\\xa0최적상태로\\xa0관리하고\\xa0노동력\\xa0절감과\\xa0생산성\\xa0향상을\\xa0구현하는\\xa0효율적인\\xa0농업형태이다.\\xa0\\n차세대\\xa0한국형\\xa0스마트팜\\xa0기술개발\\xa0프로젝트는\\xa04기관\\xa019개\\xa0전담부서가\\xa0협업하여\\xa0핵심\\xa0요소\\xa0및\\xa0원천\\xa0기반기술의\\xa0확보를\\xa0위해\\n연구\\xa0역량을\\xa0집중하고\\xa0있고\\xa0국내\\xa0농업여건에\\xa0적합하게\\xa0기술수준별로\\xa0스마트팜\\xa0모델을\\xa03가지\\xa0단계로\\xa0구분하여\\xa0개발을\\n추진하고\\xa0있다.\\xa0단계별\\xa0스마트팜은\\xa01세대(편리성\\xa0증진),\\xa02세대(생산성\\xa0향상-네덜란드추격형),\\xa03세대(글로벌산업화-플랜트\\n수출형)로\\xa0구분되고\\xa0기술의\\xa0단계적\\xa0개발과\\xa0실용화\\xa0계획을\\xa0통해\\xa0노동력과\\xa0농자재의\\xa0사용을\\xa0줄이고,\\xa0생산성과\\xa0품질을\\n제고함으로\\xa0농가소득과\\xa0연계하며,\\xa0나아가\\xa0영농현장의\\xa0애로와\\xa0연관\\xa0산업의\\xa0문제를\\xa0동시에\\xa0해결해\\xa0간다는\\xa0계획이다.\\n차세대\\xa0한국형\\xa0스마트팜\\xa0융복합\\xa0프로젝트\\n세대별\\xa0스마트팜\\xa0모델의\\xa0특징은\\xa0?\\n차세대\\xa0한국형\\xa0스마트팜\\xa0프로젝트는\\xa0외국의\\xa0선진\\xa0기술을\\xa0그대로\\xa0수입・적용하거나\\xa0단순\\xa0모방하지\\xa0않고\\xa0우리\\xa0농업\\xa0환경과\\n현장\\xa0상황에\\xa0적합한\\xa0기술을\\xa0개발하여\\xa0농업선진국과\\xa0경쟁할\\xa0수\\xa0있는\\xa0독자적인\\xa0농업생산기술을\\xa0확보하는\\xa0것이다.\\n1세대\\xa0스마트팜\\xa0-\\xa0원격\\xa0모니터링과\\xa0제어로\\xa0편의성\\xa0향상\\n원격\\xa0관리를\\xa0이용한\\xa0농업인\\xa0편리성\\xa0증대를\\xa0목적으로\\xa0현재까지\\xa0개발한\\xa0자동화\\xa0및\\xa0ICT\\xa0기술들을\\xa0영농여건과\\xa0농가수준에\\xa0맞추어\\xa0기본형과\\n선택형으로\\xa0구분해\\xa0모델을\\xa0제시함으로써\\xa0농가의\\xa0필요에\\xa0따라\\xa0조건에\\xa0맞는\\xa0모델을\\xa0적용할\\xa0수\\xa0있도록\\xa0한\\xa0것이다.\\n모델유형 주요기능 모델유형 주요기능 모델유형 주요기능\\n1세대\\xa0스마트온실\\xa0모델\\xa04종(기본형1,\\xa0선택형3)'),\n",
       " Document(metadata={'producer': 'Skia/PDF m51', 'creator': 'Mozilla/5.0 (Windows NT 6.1; Win64; x64) AppleWebKit/537.36 (KHTML, like Gecko) Chrome/51.0.2704.63 Safari/537.36', 'creationdate': '2018-08-23T06:06:07+00:00', 'moddate': '2018-08-23T06:06:07+00:00', 'source': './차세대 한국형 스마트팜 개발.pdf', 'total_pages': 4, 'page': 1, 'page_label': '2'}, page_content='2016년\\xa0개발\\xa0완료된\\xa01세대\\xa0스마트팜\\xa0모델의\\xa0보급\\xa0확산을\\xa0위해\\xa0현장실증\\xa0연구와\\xa0신기술시범사업을\\xa0접목하여\\xa0추진하고\\n있다.\\xa0시설원예\\xa06품목,\\xa0버섯\\xa01,\\xa0축산\\xa02에\\xa0대하여\\xa022개소(9.1ha)에서\\xa0현장실증연구가\\xa0진행\\xa0중이며,\\xa02017년\\xa035과제\\n174개소에서\\xa0신기술보급사업이\\xa0수행되고\\xa0있다.\\xa0또한,\\xa0시범사업의\\xa0설치\\xa0및\\xa0실증\\xa0농가의\\xa0조건\\xa0등을\\xa0고려한\\xa0품목별\\xa0보급형\\n모델을\\xa0설정하고,\\xa01세대\\xa0모델의\\xa0적용과\\xa0실증과정을\\xa0거쳐\\xa0정리된\\xa0품목별\\xa0스마트팜\\xa0운영\\xa0매뉴얼을\\xa02017년까지\\xa0개발하여\\n보급할\\xa0계획이다.\\n온실\\xa0환경제어시스템\\xa0구성\\n 1세대\\xa0스마트팜\\xa0기술\\n2세대\\xa0스마트팜\\xa0-\\xa0지능형\\xa0정밀생육관리로\\xa0생산성\\xa0향상\\n농업선진국과\\xa0대등한\\xa0수준의\\xa0생산성을\\xa0확보하기\\xa0위해\\xa0식물의\\xa0생육\\xa0또는\\xa0동물의\\xa0생장\\xa0상태를\\xa0계측하고\\xa0측정자료를\\xa0빅데이터로\\xa0관리,\\n인공지능이\\xa0동식물\\xa0생장모델을\\xa0이용하여\\xa0환경관리에\\xa0대한\\xa0의사결정을\\xa0하는\\xa02세대\\xa0기술\\xa0개발이\\xa0필요하다.\\n한국형\\xa0스마트\\xa0팜\\xa02세대\\xa0모델\\xa0설계(안)\\n관행\\xa0농업은\\xa0숙련된\\xa0재배자\\xa0또는\\xa0사육사의\\xa0경험과\\xa0지식에\\xa0의존하여\\xa0생산관리에\\xa0대한\\xa0의사결정을\\xa0하는\\xa0방식이었다.\\xa02세대\\xa0스마트팜은\\xa0재배\\n또는\\xa0사양관리\\xa0전문지식과\\xa0선도농가의\\xa0경험을\\xa0학습한\\xa0인공지능의\\xa0도움을\\xa0받아\\xa0현재\\xa0시기의\\xa0농장\\xa0환경에\\xa0최적화된\\xa0의사결정을\\xa0할\\xa0수\\xa0있게\\n된다.\\xa0그러므로\\xa0재배\\xa0또는\\xa0사육하고\\xa0있는\\xa0작물과\\xa0가축에\\xa0대한\\xa0정밀한\\xa0생육관리가\\xa0가능해지고\\xa0품질과\\xa0생산량을\\xa0크게\\xa0향상할\\xa0수\\xa0있다.\\xa0한국형\\n스마트팜\\xa02세대\\xa0모델은\\xa02018년까지\\xa0토마토재배와\\xa0돼지사육에\\xa0대한\\xa0스마트팜\\xa0모델\\xa0개발을\\xa0목표로\\xa0연구\\xa0개발이\\xa0진행되고\\xa0있으며,\\xa0향후\\xa0적용\\n품목을\\xa0다양화\\xa0하고\\xa02세대\\xa0모델의\\xa0현장\\xa0보급을\\xa0확대해\\xa0나갈\\xa0계획이다.\\n기본형 환기/보온/영상감시 선택(1)형 관수 선택(2)형 난방\\n선택(3)형 안전'),\n",
       " Document(metadata={'producer': 'Skia/PDF m51', 'creator': 'Mozilla/5.0 (Windows NT 6.1; Win64; x64) AppleWebKit/537.36 (KHTML, like Gecko) Chrome/51.0.2704.63 Safari/537.36', 'creationdate': '2018-08-23T06:06:07+00:00', 'moddate': '2018-08-23T06:06:07+00:00', 'source': './차세대 한국형 스마트팜 개발.pdf', 'total_pages': 4, 'page': 2, 'page_label': '3'}, page_content='빅데이터를\\xa0활용한\\xa0생산성\\xa0향상\\n3세대\\xa0-\\xa0에너지\\xa0최적화\\xa0및\\xa0로봇\\xa0자동화\\xa0등\\xa0스마트팜\\xa0통합시스템\\xa0수출\\n한국형\\xa0스마트팜을\\xa0기술적으로\\xa0완성하는\\xa03세대\\xa0스마트팜\\xa0모델은\\xa01세대\\xa0편의성\\xa0향상과\\xa02세대\\xa0생산성\\xa0향상\\xa0기술의\\xa0토대\\xa0위에\\xa0온실\\xa0및\\n축사에너지\\xa0시스템의\\xa0최적화와\\xa0다양한\\xa0로봇을\\xa0활용한\\xa0무인화․자동화시스템을\\xa0구현해\\xa0스마트팜\\xa0전\\xa0과정의\\xa0통합제어\\xa0및\\xa0생산\\xa0관리를\\xa0가능하게\\n하는\\xa0수준이다.\\n세대별\\xa0한국형\\xa0스마트팜\\xa0기술\\xa0구성\\n3세대\\xa0모델은\\xa0국내\\xa0스마트팜\\xa0농가의\\xa0규모화와\\xa0생력화를\\xa0통한\\xa0생산비\\xa0절감으로\\xa0경쟁력을\\xa0향상할\\xa0뿐만\\xa0아니라\\xa0지능형\\xa0생육관리모델을\\xa0탑재한\\n비닐하우스\\xa0중심의\\xa0저비용\\xa0고성능\\xa0한국형\\xa0스마트팜이다.\\xa0향후\\xa0수출을\\xa0통해\\xa0우리나라가\\xa0농업\\xa0선진국\\xa0및\\xa0농업\\xa0수출국으로서\\xa0세계시장에서\\n지위를\\xa0확보하는데\\xa0핵심\\xa0역할을\\xa0할\\xa0것으로\\xa0기대\\xa0한다.\\n3세대\\xa0스마트팜\\xa0기술\\n한국형\\xa0스마트팜\\xa0확산\\xa0-\\xa0ICT\\xa0기기\\xa0규격화・표준화\\n현재까지\\xa0보급되고\\xa0있는\\xa0ICT\\xa0기기들은\\xa0업체마다\\xa0제품의\\xa0규격이\\xa0달라\\xa0서로\\xa0호환되지\\xa0않으므로\\xa0스마트팜\\xa0농가의\\xa0통합관리\\xa0및\\xa0유지보수가\\n어려운\\xa0단점이\\xa0있다.\\xa0시설원예\\xa0및\\xa0축산에\\xa0사용되는\\xa0각종\\xa0센서\\xa0및\\xa0제어기에\\xa0대하여\\xa0형식과\\xa0통신방식\\xa0등을\\xa0하나의\\xa0공동규격으로\\xa0통일하는\\n표준화\\xa0작업이\\xa0추진되고\\xa0있다.\\xa02016년까지\\xa0온실\\xa0ICT\\xa0장비\\xa025종(제어기\\xa09종,\\xa0센서\\xa013종,\\xa0복합장비\\xa03종)을\\xa0TTA\\xa0단체표준으로\\xa0등록하였고,\\n2017년\\xa0농업기술실용화재단에서\\xa0검인증\\xa0방법을\\xa0수립하고\\xa0고시할\\xa0계획이다.\\xa0축산\\xa0관련\\xa0ICT\\xa0부품\\xa0및\\xa0장비는\\xa0센서류(2017년)\\xa0및\\n사양관리설비(2018년)에\\xa0대하여\\xa0단체표준화가\\xa0추진\\xa0중에\\xa0있다.\\xa0\\xa0\\n농업\\xa0ICT\\xa0부품\\xa0및\\xa0장비\\xa0표준화는\\xa0국내농가의\\xa0온실\\xa0및\\xa0축사의\\xa0유지보수를\\xa0용이하게\\xa0하고\\xa0한국형\\xa0스마트팜\\xa0글로벌화의\\xa0기반이\\xa0되는\\xa0센서\\xa0및'),\n",
       " Document(metadata={'producer': 'Skia/PDF m51', 'creator': 'Mozilla/5.0 (Windows NT 6.1; Win64; x64) AppleWebKit/537.36 (KHTML, like Gecko) Chrome/51.0.2704.63 Safari/537.36', 'creationdate': '2018-08-23T06:06:07+00:00', 'moddate': '2018-08-23T06:06:07+00:00', 'source': './차세대 한국형 스마트팜 개발.pdf', 'total_pages': 4, 'page': 3, 'page_label': '4'}, page_content='제어기\\xa0등\\xa0ICT\\xa0기기\\xa0산업을\\xa0활성화\\xa0시키는데\\xa0필수적이다.\\nICT\\xa0핵심부품\\xa0및\\xa0기기\\xa0표준화\\n 스마트온실\\xa0단체표준\\xa0제정\\n파이팅!\\xa0한국형\\xa0스마트팜\\n사회\\xa0전반에서\\xa04차\\xa0산업\\xa0혁명에\\xa0대한\\xa0많은\\xa0관심을\\xa0가지고\\xa0사물인터넷,\\xa0빅데이터,\\xa0인공지능,\\xa0로봇\\xa0등을\\xa0활용하는\\xa0분야를\\n확장하고\\xa0있다.\\xa0농업분야에서도\\xa0스마트\\xa0기기를\\xa0농사에\\xa0효과적으로\\xa0접목할\\xa0수\\xa0있는\\xa0ICT분야\\xa0연구개발이\\xa0필요하다.\\n첨단화되는\\xa0스마트\\xa0기기와\\xa0다양한\\xa0실시간\\xa0정보를\\xa0활용해\\xa0편리성과\\xa0생산성을\\xa0높이는\\xa0스마트팜\\xa0연구개발은\\xa0국내농가의\\n소득증대뿐만\\xa0아니라\\xa0농업\\xa0생산기술과\\xa0시스템\\xa0수출의\\xa0길을\\xa0열고,\\xa0우리\\xa0농업기술의\\xa0국제경쟁력을\\xa0높이는\\xa0데에도\\xa0크게\\xa0기여할\\n것으로\\xa0기대\\xa0된다.\\xa0가까운\\xa0장래에\\xa0한국형\\xa0스마트\\xa0팜의\\xa0기반이\\xa0구축되고\\xa0우리\\xa0경제의\\xa0미래\\xa0성장\\xa0동력으로\\xa0자리매김\\xa0할\\xa0우리\\n농업의\\xa0모습을\\xa0기대해\\xa0본다.')]"
      ]
     },
     "execution_count": 6,
     "metadata": {},
     "output_type": "execute_result"
    }
   ],
   "source": [
    "data"
   ]
  },
  {
   "cell_type": "code",
   "execution_count": 5,
   "id": "33f96ef4-372c-4313-bd1f-26a854898794",
   "metadata": {},
   "outputs": [
    {
     "name": "stderr",
     "output_type": "stream",
     "text": [
      "/var/folders/fs/xj6_f58s74z5txbxnt876g100000gn/T/ipykernel_51693/1332705152.py:2: LangChainDeprecationWarning: The class `OpenAIEmbeddings` was deprecated in LangChain 0.0.9 and will be removed in 1.0. An updated version of the class exists in the :class:`~langchain-openai package and should be used instead. To use it run `pip install -U :class:`~langchain-openai` and import as `from :class:`~langchain_openai import OpenAIEmbeddings``.\n",
      "  embeddings = OpenAIEmbeddings(model=\"text-embedding-ada-002\", api_key=api_key)\n"
     ]
    }
   ],
   "source": [
    "from langchain.embeddings.openai import OpenAIEmbeddings\n",
    "embeddings = OpenAIEmbeddings(model=\"text-embedding-ada-002\", api_key=api_key)"
   ]
  },
  {
   "cell_type": "code",
   "execution_count": 7,
   "id": "75e8a7cd-9f6b-47cd-9b6f-a58d07fabb7c",
   "metadata": {},
   "outputs": [],
   "source": [
    "from langchain.vectorstores import FAISS\n",
    "vectorstore = FAISS.from_documents(data, embeddings)"
   ]
  },
  {
   "cell_type": "code",
   "execution_count": 8,
   "id": "8b82ae3e-0788-41d5-b666-2c2f308dc85c",
   "metadata": {},
   "outputs": [
    {
     "name": "stderr",
     "output_type": "stream",
     "text": [
      "/var/folders/fs/xj6_f58s74z5txbxnt876g100000gn/T/ipykernel_51693/1264873333.py:3: LangChainDeprecationWarning: The class `ChatOpenAI` was deprecated in LangChain 0.0.10 and will be removed in 1.0. An updated version of the class exists in the :class:`~langchain-openai package and should be used instead. To use it run `pip install -U :class:`~langchain-openai` and import as `from :class:`~langchain_openai import ChatOpenAI``.\n",
      "  llm = ChatOpenAI(model=\"gpt-3.5-turbo\", api_key=api_key)\n"
     ]
    }
   ],
   "source": [
    "from langchain.chat_models import ChatOpenAI\n",
    "\n",
    "llm = ChatOpenAI(model=\"gpt-3.5-turbo\", api_key=api_key)"
   ]
  },
  {
   "cell_type": "code",
   "execution_count": 9,
   "id": "b96aaf68-c29d-4e62-a8ac-91e9a1faa56d",
   "metadata": {},
   "outputs": [
    {
     "name": "stderr",
     "output_type": "stream",
     "text": [
      "/var/folders/fs/xj6_f58s74z5txbxnt876g100000gn/T/ipykernel_51693/952344495.py:2: LangChainDeprecationWarning: Please see the migration guide at: https://python.langchain.com/docs/versions/migrating_memory/\n",
      "  memory = ConversationBufferMemory(memory_key='chat_history', return_messages=True)\n"
     ]
    }
   ],
   "source": [
    "from langchain.memory import ConversationBufferMemory\n",
    "memory = ConversationBufferMemory(memory_key='chat_history', return_messages=True)"
   ]
  },
  {
   "cell_type": "code",
   "execution_count": 10,
   "id": "feb20fe3-336d-4324-9c8c-08b7aaadcd96",
   "metadata": {},
   "outputs": [],
   "source": [
    "from langchain.chains import ConversationalRetrievalChain\n",
    "conversation_chain = ConversationalRetrievalChain.from_llm(\n",
    "    llm=llm,\n",
    "    chain_type=\"stuff\",\n",
    "    retriever=vectorstore.as_retriever(),\n",
    "    memory=memory\n",
    ")"
   ]
  },
  {
   "cell_type": "code",
   "execution_count": 11,
   "id": "d9a9c0cd-aafd-49ed-8e68-b51333dfb6ab",
   "metadata": {},
   "outputs": [
    {
     "name": "stderr",
     "output_type": "stream",
     "text": [
      "/var/folders/fs/xj6_f58s74z5txbxnt876g100000gn/T/ipykernel_51693/139330662.py:2: LangChainDeprecationWarning: The method `Chain.__call__` was deprecated in langchain 0.1.0 and will be removed in 1.0. Use :meth:`~invoke` instead.\n",
      "  result = conversation_chain({\"question\": query})\n"
     ]
    },
    {
     "data": {
      "text/plain": [
       "'한국형 스마트팜은 사물인터넷, 빅데이터, 인공지능, 로봇 등의 첨단 기술을 활용하여 농산물의 생육환경을 최적화하고 노동력을 절감하며 생산성을 향상시키는 효율적인 농업 형태를 일컫는다. 농업의 미래를 대비하기 위해 발전하는 스마트 농업 기술 중 한국에서 개발된 형태를 의미합니다.'"
      ]
     },
     "execution_count": 11,
     "metadata": {},
     "output_type": "execute_result"
    }
   ],
   "source": [
    "query = \"한국형 스마트팜이란?\"\n",
    "result = conversation_chain({\"question\": query})\n",
    "answer = result[\"answer\"]\n",
    "answer"
   ]
  },
  {
   "cell_type": "code",
   "execution_count": 12,
   "id": "8a803cc0-c60f-460d-a116-df27bf6f5cef",
   "metadata": {},
   "outputs": [
    {
     "data": {
      "text/plain": [
       "'농업 분야에서 필요한 기술은 사물인터넷, 빅데이터, 인공지능, 로봇 등을 활용하여 스마트 기기를 농사에 효과적으로 접목할 수 있는 ICT분야 연구 및 개발이 중요합니다. 특히, 스마트팜에서 빅데이터를 활용한 생산성 향상, 에너지 최적화 및 자동화를 포함한 스마트팜 통합시스템, 그리고 스마트팜의 ICT 기기 규격화 및 표준화가 필요한 중요한 기술입니다.'"
      ]
     },
     "execution_count": 12,
     "metadata": {},
     "output_type": "execute_result"
    }
   ],
   "source": [
    "query = \"그것에 필요한 기술은?\"\n",
    "result = conversation_chain({\"question\": query})\n",
    "answer = result[\"answer\"]\n",
    "answer"
   ]
  },
  {
   "cell_type": "code",
   "execution_count": null,
   "id": "72031997",
   "metadata": {},
   "outputs": [],
   "source": []
  },
  {
   "cell_type": "code",
   "execution_count": null,
   "id": "c22a708f-9cd1-4ae4-a9e9-8424746be80f",
   "metadata": {},
   "outputs": [],
   "source": []
  }
 ],
 "metadata": {
  "kernelspec": {
   "display_name": ".venv",
   "language": "python",
   "name": "python3"
  },
  "language_info": {
   "codemirror_mode": {
    "name": "ipython",
    "version": 3
   },
   "file_extension": ".py",
   "mimetype": "text/x-python",
   "name": "python",
   "nbconvert_exporter": "python",
   "pygments_lexer": "ipython3",
   "version": "3.11.4"
  }
 },
 "nbformat": 4,
 "nbformat_minor": 5
}
