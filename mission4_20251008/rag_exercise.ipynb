{
 "cells": [
  {
   "cell_type": "markdown",
   "metadata": {},
   "source": [
    "### RAG와 LLM을 활용한 질의응답 실습\n",
    "- LLM API 호출 시 RAG를 통해 연관 정보 추출 후 Prompt에 추가하는 실습\n",
    "- RAG 추가 전후로 평가 진행"
   ]
  },
  {
   "cell_type": "code",
   "execution_count": 2,
   "metadata": {},
   "outputs": [],
   "source": [
    "import pickle\n",
    "\n",
    "with open('./res/rag_data.pkl', 'rb') as f:\n",
    "    rag_data = pickle.load(f)"
   ]
  },
  {
   "cell_type": "code",
   "execution_count": 8,
   "metadata": {},
   "outputs": [
    {
     "data": {
      "text/plain": [
       "dict_keys(['questions', 'contexts', 'contexts_answer_idx', 'contexts_answers', 'answers'])"
      ]
     },
     "execution_count": 8,
     "metadata": {},
     "output_type": "execute_result"
    }
   ],
   "source": [
    "rag_data.keys()"
   ]
  },
  {
   "cell_type": "code",
   "execution_count": 9,
   "metadata": {},
   "outputs": [
    {
     "data": {
      "text/plain": [
       "10"
      ]
     },
     "execution_count": 9,
     "metadata": {},
     "output_type": "execute_result"
    }
   ],
   "source": [
    "questions = rag_data['questions'][:10]\n",
    "contexts = rag_data['contexts'][:10]\n",
    "answers = rag_data['answers'][:10]\n",
    "len(questions)"
   ]
  },
  {
   "cell_type": "code",
   "execution_count": 15,
   "metadata": {},
   "outputs": [
    {
     "name": "stdout",
     "output_type": "stream",
     "text": [
      "글로벌 저금리 현상이 부각된 원인은 무엇인가요?\n",
      "['... 변화의 동인은 크게 두 가지로 분류할\\n수 있다. 하나는 금융업계 전반에 부각되는 디지털화(digitalization)1)이고\\n다른 하나는 저금리·저성장으로 대표되는 뉴노멀(new normal)이다.  ... . 뉴노멀의 특징으로는 금융투자\\n및 자산운용의 어려움이 가중되는 경향, 고수익-고위험 부문으로의 쏠림\\n현상 등의 위험요인과 함께 자산관리서비스 수요의 증가 등 대응 노력을\\n살펴본다. 제III장은 디지털화 및 뉴노멀에 대응하는 해외 사례들을 살펴본다.  ... 뉴노멀의\\n주요 특징인 저성장, 저금리 등은 일본의 금융투자업계가 30년 전부터 고민해\\n온 문제이기 때문이다.  ... 제III장에서 살펴본 해외\\n사례들에서 살펴본 금융투자업계 변화의 규칙성이 어느 정도 유지될 것이라는\\n1 디지털화(digitalization)에 대한 ...', '3. 문제점\\n1) 기업신용위험 평가항목의 적정성\\n글로벌 금융위기 이후 저금리 기조가 지속되었고, 최근 추가적으로\\n금리가 하락함에 따라 이자보상배율 등의 지표들이 기업의 부실을\\n측정하는 데 적정한 지표인지에 대한 검토가 필요\\n기업신용위험 정 ... 작용할 것으로 예상\\n저금리 기조가 지속되는 가운데 금융비용이 감소하여 이자보상배\\n율이 기업의 부실을 가늠하는 지표로 적합한지에 대해 의문이\\n발생\\n더불어 코로나19 사태로 인한 중소기업에 대한 금융권 대출 만기\\n연장 및 이자상환 유예조치로 이 ... 는 추세\\n이러한 졸업비율 감소 현상의 원인으로 저조한 경기의 영향이\\n있었던 것으로 추정되지만 개시연도를 기준으로 졸 ...', '2. 뉴노멀의 도래(신 3저의 도래)\\n최근 코로나 사태를 포함하여 2008년 글로벌 금융위기 이후 전세계적인\\n저금리·저성장 상황\\n∙ 글로벌 금융위기를 극복하는 과정에서 미국, 유럽, 일본 등 주요국의\\n완화적 통화정책으로 글로벌 저금리 현상이 부각\\n∙ 코로나 팬데믹이 진정되더라도 글로벌 저금리 추세가 지속되는 가운\\n데 우리나라의 저금리 기조도 장기화될 가능성이 높음. 이러한 추세는 글로벌 금융위기 이후의 전세계적인 완화적 통화정책과\\n그 이전부터 이어진 경제구조적 요인이 혼재된 결과\\n∙ 선진국의 성장세가 둔화되고, 신흥국이 성장하면서 글로벌 무역 불\\n균형(global imbalance)이 심화되고 저축과잉현상(global savings\\nglut) 발생\\n∙ 기 ... 가.  ...']\n",
      "글로벌 저금리 현상이 부각된 원인은 여러 가지입니다. 첫째, 2008년 글로벌 금융위기를 극복하는 과정에서 미국, 유럽, 일본 등 주요국의 완화적 통화정책이 있습니다. 둘째, 선진국의 성장세가 둔화되고, 신흥국이 성장하면서 글로벌 무역 불균형이 심화되고 저축과잉현상이 발생했습니다. 셋째, 기술발전에 따른 자본재 가격 하락과 신기술 혁신에 따른 수익률이 낮아져 경제 전체적인 유효투자가 감소했습니다. 넷째, 세계적인 인구증가율 감소 추세는 유효수요 및 자본의 한계생산성과 투자이익 및 투자증가율을 감소시켰습니다. 따라서 이러한 요인들이 복합적으로 작용하여 글로벌 저금리 현상이 부각되었습니다.\n"
     ]
    }
   ],
   "source": [
    "print(questions[0])\n",
    "print(contexts[0])\n",
    "print(answers[0])"
   ]
  },
  {
   "cell_type": "markdown",
   "metadata": {},
   "source": [
    "### 평가\n",
    "- RAGAS의 Answer Correctedness 평가 지표\n",
    "  - 모델의 답변과 실제 정답 간의 일치율 측정"
   ]
  },
  {
   "cell_type": "markdown",
   "metadata": {},
   "source": [
    "### Baseline (w/o RAG)"
   ]
  },
  {
   "cell_type": "code",
   "execution_count": null,
   "metadata": {},
   "outputs": [
    {
     "name": "stderr",
     "output_type": "stream",
     "text": [
      "100%|██████████| 10/10 [01:21<00:00,  8.18s/it]\n"
     ]
    }
   ],
   "source": [
    "from tqdm import tqdm\n",
    "\n",
    "from utils import call_openai, get_embeddings, cosine_similarity\n",
    "\n",
    "predictions = []\n",
    "for i in tqdm(range(len(questions))):\n",
    "    prompt = f\"\"\"You are an expert in Finance. Please answer to the question given below.\n",
    "\n",
    "Question:\n",
    "{questions[i]}\n",
    "\"\"\"\n",
    "\n",
    "    prediction = call_openai(prompt, model='gpt-4o-2024-05-13')\n",
    "    predictions.append(prediction)"
   ]
  },
  {
   "cell_type": "code",
   "execution_count": null,
   "metadata": {},
   "outputs": [
    {
     "name": "stderr",
     "output_type": "stream",
     "text": [
      "/Users/rein20/Documents/lectures/ai-service/retrieval-augmented-generation/.venv/lib/python3.12/site-packages/tqdm/auto.py:21: TqdmWarning: IProgress not found. Please update jupyter and ipywidgets. See https://ipywidgets.readthedocs.io/en/stable/user_install.html\n",
      "  from .autonotebook import tqdm as notebook_tqdm\n",
      "Evaluating: 100%|██████████| 10/10 [01:17<00:00,  7.73s/it]\n"
     ]
    },
    {
     "data": {
      "text/plain": [
       "{'answer_correctness': 0.4985}"
      ]
     },
     "execution_count": 4,
     "metadata": {},
     "output_type": "execute_result"
    }
   ],
   "source": [
    "from datasets import Dataset\n",
    "from ragas import evaluate\n",
    "from ragas.metrics import answer_correctness\n",
    "\n",
    "\n",
    "data_samples = {\n",
    "    'question': questions,\n",
    "    'answer': predictions,\n",
    "    'ground_truth': answers\n",
    "}\n",
    "\n",
    "dataset = Dataset.from_dict(data_samples)\n",
    "\n",
    "score = evaluate(dataset, metrics=[answer_correctness])\n",
    "score"
   ]
  },
  {
   "cell_type": "code",
   "execution_count": 5,
   "metadata": {},
   "outputs": [
    {
     "name": "stdout",
     "output_type": "stream",
     "text": [
      "글로벌 저금리 현상이 부각된 원인은 무엇인가요?\n"
     ]
    }
   ],
   "source": [
    "print(questions[0])"
   ]
  },
  {
   "cell_type": "code",
   "execution_count": 6,
   "metadata": {},
   "outputs": [
    {
     "name": "stdout",
     "output_type": "stream",
     "text": [
      "글로벌 저금리 현상이 부각된 원인에는 여러 가지 요인이 복합적으로 작용하고 있습니다. 주요 원인들을 살펴보면 다음과 같습니다:\n",
      "\n",
      "1. **경제 성장 둔화**: 선진국을 중심으로 경제 성장률이 둔화되면서 중앙은행들이 경기 부양을 위해 금리를 낮추는 정책을 채택하게 되었습니다. 이는 저금리 현상의 주요 원인 중 하나입니다.\n",
      "\n",
      "2. **인구 고령화**: 많은 선진국에서 인구 고령화가 진행되면서 소비와 투자가 줄어들고, 저축이 증가하는 경향이 있습니다. 이는 금리 하락을 유도하는 요인으로 작용합니다.\n",
      "\n",
      "3. **글로벌 금융 위기**: 2008년 글로벌 금융 위기 이후, 각국 중앙은행들은 경제 회복을 위해 금리를 낮추고 양적 완화 정책을 시행했습니다. 이러한 정책들은 장기적으로 저금리 환경을 조성하는 데 기여했습니다.\n",
      "\n",
      "4. **디플레이션 압력**: 일부 국가에서는 디플레이션(물가 하락) 압력이 존재하여 중앙은행들이 금리를 낮추는 정책을 통해 물가 상승을 유도하려고 합니다.\n",
      "\n",
      "5. **국제 자본 이동**: 글로벌화로 인해 자본이 국경을 넘어 자유롭게 이동하면서, 금리가 낮은 국가로 자본이 유입되는 현상이 발생합니다. 이는 금리 하락을 더욱 촉진시킵니다.\n",
      "\n",
      "6. **기술 발전**: 기술 발전으로 인해 생산성이 향상되고, 이는 물가 상승 압력을 억제하는 요인으로 작용합니다. 중앙은행들은 이러한 상황에서 금리를 낮추는 경향이 있습니다.\n",
      "\n",
      "7. **정책적 요인**: 각국 정부와 중앙은행들이 경제 안정과 성장을 위해 저금리 정책을 지속적으로 유지하는 경우도 있습니다. 이는 경기 부양과 고용 창출을 목표로 하는 정책적 결정입니다.\n",
      "\n",
      "이와 같은 여러 요인들이 복합적으로 작용하여 글로벌 저금리 현상이 부각되고 있습니다.\n"
     ]
    }
   ],
   "source": [
    "print(predictions[0])"
   ]
  },
  {
   "cell_type": "markdown",
   "metadata": {},
   "source": [
    "### LLM + RAG\n",
    "- text-embedding-3-large 임베딩 모델 사용"
   ]
  },
  {
   "cell_type": "code",
   "execution_count": 16,
   "metadata": {},
   "outputs": [
    {
     "name": "stderr",
     "output_type": "stream",
     "text": [
      "100%|██████████| 10/10 [00:42<00:00,  4.28s/it]\n"
     ]
    }
   ],
   "source": [
    "import numpy as np\n",
    "from tqdm import tqdm\n",
    "\n",
    "from utils import call_openai, get_embeddings, cosine_similarity\n",
    "\n",
    "\n",
    "def retrieve_context(question, contexts):\n",
    "    question_embedding = get_embeddings([question], model='text-embedding-3-large')[0]\n",
    "    context_embeddings = get_embeddings(contexts, model='text-embedding-3-large')\n",
    "\n",
    "    similarities = [cosine_similarity(question_embedding, context_embedding) for context_embedding in context_embeddings]\n",
    "\n",
    "    most_relevant_index = np.argmax(similarities)\n",
    "    return contexts[most_relevant_index]\n",
    "\n",
    "predictions = []\n",
    "for i in tqdm(range(len(questions))):\n",
    "    context = retrieve_context(questions[i], contexts[i])\n",
    "    prompt = f\"\"\"You are an expert in Finance. Please answer to the question given below. Use information given in Context appropriately.\n",
    "\n",
    "Context:\n",
    "{context}\n",
    "\n",
    "Question:\n",
    "{questions[i]}\n",
    "\"\"\"\n",
    "    prediction = call_openai(prompt, model='gpt-4o-2024-05-13')\n",
    "    predictions.append(prediction)"
   ]
  },
  {
   "cell_type": "code",
   "execution_count": 18,
   "metadata": {},
   "outputs": [
    {
     "name": "stdout",
     "output_type": "stream",
     "text": [
      "Collecting ragas\n",
      "  Downloading ragas-0.3.6-py3-none-any.whl (303 kB)\n",
      "\u001b[2K     \u001b[90m━━━━━━━━━━━━━━━━━━━━━━━━━━━━━━━━━━━━━━━\u001b[0m \u001b[32m303.6/303.6 kB\u001b[0m \u001b[31m6.3 MB/s\u001b[0m eta \u001b[36m0:00:00\u001b[0ma \u001b[36m0:00:01\u001b[0m\n",
      "\u001b[?25hRequirement already satisfied: numpy<3.0.0,>=1.21.0 in ./.venv/lib/python3.11/site-packages (from ragas) (2.3.3)\n",
      "Requirement already satisfied: datasets>=4.0.0 in ./.venv/lib/python3.11/site-packages (from ragas) (4.1.1)\n",
      "Collecting tiktoken (from ragas)\n",
      "  Using cached tiktoken-0.12.0-cp311-cp311-macosx_11_0_arm64.whl (995 kB)\n",
      "Requirement already satisfied: pydantic>=2.0.0 in ./.venv/lib/python3.11/site-packages (from ragas) (2.12.0)\n",
      "Requirement already satisfied: nest-asyncio in ./.venv/lib/python3.11/site-packages (from ragas) (1.6.0)\n",
      "Collecting appdirs (from ragas)\n",
      "  Downloading appdirs-1.4.4-py2.py3-none-any.whl (9.6 kB)\n",
      "Collecting diskcache>=5.6.3 (from ragas)\n",
      "  Downloading diskcache-5.6.3-py3-none-any.whl (45 kB)\n",
      "\u001b[2K     \u001b[90m━━━━━━━━━━━━━━━━━━━━━━━━━━━━━━━━━━━━━━━━\u001b[0m \u001b[32m45.5/45.5 kB\u001b[0m \u001b[31m4.9 MB/s\u001b[0m eta \u001b[36m0:00:00\u001b[0m\n",
      "\u001b[?25hCollecting typer (from ragas)\n",
      "  Using cached typer-0.19.2-py3-none-any.whl (46 kB)\n",
      "Collecting rich (from ragas)\n",
      "  Using cached rich-14.1.0-py3-none-any.whl (243 kB)\n",
      "Requirement already satisfied: openai>=1.0.0 in ./.venv/lib/python3.11/site-packages (from ragas) (2.2.0)\n",
      "Requirement already satisfied: tqdm in ./.venv/lib/python3.11/site-packages (from ragas) (4.67.1)\n",
      "Collecting instructor (from ragas)\n",
      "  Downloading instructor-1.11.3-py3-none-any.whl (155 kB)\n",
      "\u001b[2K     \u001b[90m━━━━━━━━━━━━━━━━━━━━━━━━━━━━━━━━━━━━━━━\u001b[0m \u001b[32m155.5/155.5 kB\u001b[0m \u001b[31m8.4 MB/s\u001b[0m eta \u001b[36m0:00:00\u001b[0m\n",
      "\u001b[?25hCollecting gitpython (from ragas)\n",
      "  Using cached gitpython-3.1.45-py3-none-any.whl (208 kB)\n",
      "Collecting pillow>=10.4.0 (from ragas)\n",
      "  Using cached pillow-11.3.0-cp311-cp311-macosx_11_0_arm64.whl (4.7 MB)\n",
      "Collecting networkx (from ragas)\n",
      "  Downloading networkx-3.5-py3-none-any.whl (2.0 MB)\n",
      "\u001b[2K     \u001b[90m━━━━━━━━━━━━━━━━━━━━━━━━━━━━━━━━━━━━━━━━\u001b[0m \u001b[32m2.0/2.0 MB\u001b[0m \u001b[31m10.9 MB/s\u001b[0m eta \u001b[36m0:00:00\u001b[0ma \u001b[36m0:00:01\u001b[0m\n",
      "\u001b[?25hCollecting scikit-network (from ragas)\n",
      "  Downloading scikit_network-0.33.3-cp311-cp311-macosx_11_0_arm64.whl (2.8 MB)\n",
      "\u001b[2K     \u001b[90m━━━━━━━━━━━━━━━━━━━━━━━━━━━━━━━━━━━━━━━━\u001b[0m \u001b[32m2.8/2.8 MB\u001b[0m \u001b[31m10.6 MB/s\u001b[0m eta \u001b[36m0:00:00\u001b[0ma \u001b[36m0:00:01\u001b[0m\n",
      "\u001b[?25hCollecting langchain (from ragas)\n",
      "  Using cached langchain-0.3.27-py3-none-any.whl (1.0 MB)\n",
      "Collecting langchain-core (from ragas)\n",
      "  Using cached langchain_core-0.3.78-py3-none-any.whl (449 kB)\n",
      "Collecting langchain-community (from ragas)\n",
      "  Downloading langchain_community-0.3.31-py3-none-any.whl (2.5 MB)\n",
      "\u001b[2K     \u001b[90m━━━━━━━━━━━━━━━━━━━━━━━━━━━━━━━━━━━━━━━━\u001b[0m \u001b[32m2.5/2.5 MB\u001b[0m \u001b[31m10.5 MB/s\u001b[0m eta \u001b[36m0:00:00\u001b[0m00:01\u001b[0m00:01\u001b[0m\n",
      "\u001b[?25hCollecting langchain_openai (from ragas)\n",
      "  Using cached langchain_openai-0.3.35-py3-none-any.whl (75 kB)\n",
      "Requirement already satisfied: filelock in ./.venv/lib/python3.11/site-packages (from datasets>=4.0.0->ragas) (3.19.1)\n",
      "Requirement already satisfied: pyarrow>=21.0.0 in ./.venv/lib/python3.11/site-packages (from datasets>=4.0.0->ragas) (21.0.0)\n",
      "Requirement already satisfied: dill<0.4.1,>=0.3.0 in ./.venv/lib/python3.11/site-packages (from datasets>=4.0.0->ragas) (0.4.0)\n",
      "Requirement already satisfied: pandas in ./.venv/lib/python3.11/site-packages (from datasets>=4.0.0->ragas) (2.3.3)\n",
      "Requirement already satisfied: requests>=2.32.2 in ./.venv/lib/python3.11/site-packages (from datasets>=4.0.0->ragas) (2.32.5)\n",
      "Requirement already satisfied: xxhash in ./.venv/lib/python3.11/site-packages (from datasets>=4.0.0->ragas) (3.6.0)\n",
      "Requirement already satisfied: multiprocess<0.70.17 in ./.venv/lib/python3.11/site-packages (from datasets>=4.0.0->ragas) (0.70.16)\n",
      "Requirement already satisfied: fsspec[http]<=2025.9.0,>=2023.1.0 in ./.venv/lib/python3.11/site-packages (from datasets>=4.0.0->ragas) (2025.9.0)\n",
      "Requirement already satisfied: huggingface-hub>=0.24.0 in ./.venv/lib/python3.11/site-packages (from datasets>=4.0.0->ragas) (0.35.3)\n",
      "Requirement already satisfied: packaging in ./.venv/lib/python3.11/site-packages (from datasets>=4.0.0->ragas) (25.0)\n",
      "Requirement already satisfied: pyyaml>=5.1 in ./.venv/lib/python3.11/site-packages (from datasets>=4.0.0->ragas) (6.0.3)\n",
      "Requirement already satisfied: anyio<5,>=3.5.0 in ./.venv/lib/python3.11/site-packages (from openai>=1.0.0->ragas) (4.11.0)\n",
      "Requirement already satisfied: distro<2,>=1.7.0 in ./.venv/lib/python3.11/site-packages (from openai>=1.0.0->ragas) (1.9.0)\n",
      "Requirement already satisfied: httpx<1,>=0.23.0 in ./.venv/lib/python3.11/site-packages (from openai>=1.0.0->ragas) (0.28.1)\n",
      "Requirement already satisfied: jiter<1,>=0.4.0 in ./.venv/lib/python3.11/site-packages (from openai>=1.0.0->ragas) (0.11.0)\n",
      "Requirement already satisfied: sniffio in ./.venv/lib/python3.11/site-packages (from openai>=1.0.0->ragas) (1.3.1)\n",
      "Requirement already satisfied: typing-extensions<5,>=4.11 in ./.venv/lib/python3.11/site-packages (from openai>=1.0.0->ragas) (4.15.0)\n",
      "Requirement already satisfied: annotated-types>=0.6.0 in ./.venv/lib/python3.11/site-packages (from pydantic>=2.0.0->ragas) (0.7.0)\n",
      "Requirement already satisfied: pydantic-core==2.41.1 in ./.venv/lib/python3.11/site-packages (from pydantic>=2.0.0->ragas) (2.41.1)\n",
      "Requirement already satisfied: typing-inspection>=0.4.2 in ./.venv/lib/python3.11/site-packages (from pydantic>=2.0.0->ragas) (0.4.2)\n",
      "Collecting gitdb<5,>=4.0.1 (from gitpython->ragas)\n",
      "  Using cached gitdb-4.0.12-py3-none-any.whl (62 kB)\n",
      "Requirement already satisfied: aiohttp<4.0.0,>=3.9.1 in ./.venv/lib/python3.11/site-packages (from instructor->ragas) (3.13.0)\n",
      "Collecting docstring-parser<1.0,>=0.16 (from instructor->ragas)\n",
      "  Using cached docstring_parser-0.17.0-py3-none-any.whl (36 kB)\n",
      "Collecting jinja2<4.0.0,>=3.1.4 (from instructor->ragas)\n",
      "  Using cached jinja2-3.1.6-py3-none-any.whl (134 kB)\n",
      "Collecting jiter<1,>=0.4.0 (from openai>=1.0.0->ragas)\n",
      "  Downloading jiter-0.10.0-cp311-cp311-macosx_11_0_arm64.whl (321 kB)\n",
      "\u001b[2K     \u001b[90m━━━━━━━━━━━━━━━━━━━━━━━━━━━━━━━━━━━━━━━\u001b[0m \u001b[32m322.0/322.0 kB\u001b[0m \u001b[31m7.7 MB/s\u001b[0m eta \u001b[36m0:00:00\u001b[0m00:01\u001b[0m\n",
      "\u001b[?25hCollecting openai>=1.0.0 (from ragas)\n",
      "  Downloading openai-1.109.1-py3-none-any.whl (948 kB)\n",
      "\u001b[2K     \u001b[90m━━━━━━━━━━━━━━━━━━━━━━━━━━━━━━━━━━━━━━\u001b[0m \u001b[32m948.6/948.6 kB\u001b[0m \u001b[31m10.1 MB/s\u001b[0m eta \u001b[36m0:00:00\u001b[0ma \u001b[36m0:00:01\u001b[0m\n",
      "\u001b[?25hCollecting tenacity<10.0.0,>=8.2.3 (from instructor->ragas)\n",
      "  Using cached tenacity-9.1.2-py3-none-any.whl (28 kB)\n",
      "Collecting markdown-it-py>=2.2.0 (from rich->ragas)\n",
      "  Using cached markdown_it_py-4.0.0-py3-none-any.whl (87 kB)\n",
      "Requirement already satisfied: pygments<3.0.0,>=2.13.0 in ./.venv/lib/python3.11/site-packages (from rich->ragas) (2.19.2)\n",
      "Collecting click>=8.0.0 (from typer->ragas)\n",
      "  Using cached click-8.3.0-py3-none-any.whl (107 kB)\n",
      "Collecting shellingham>=1.3.0 (from typer->ragas)\n",
      "  Using cached shellingham-1.5.4-py2.py3-none-any.whl (9.8 kB)\n",
      "Collecting langchain-text-splitters<1.0.0,>=0.3.9 (from langchain->ragas)\n",
      "  Using cached langchain_text_splitters-0.3.11-py3-none-any.whl (33 kB)\n",
      "Collecting langsmith>=0.1.17 (from langchain->ragas)\n",
      "  Downloading langsmith-0.4.33-py3-none-any.whl (387 kB)\n",
      "\u001b[2K     \u001b[90m━━━━━━━━━━━━━━━━━━━━━━━━━━━━━━━━━━━━━━━\u001b[0m \u001b[32m387.3/387.3 kB\u001b[0m \u001b[31m9.2 MB/s\u001b[0m eta \u001b[36m0:00:00\u001b[0m00:01\u001b[0m\n",
      "\u001b[?25hCollecting SQLAlchemy<3,>=1.4 (from langchain->ragas)\n",
      "  Using cached sqlalchemy-2.0.43-cp311-cp311-macosx_11_0_arm64.whl (2.1 MB)\n",
      "Collecting jsonpatch<2.0.0,>=1.33.0 (from langchain-core->ragas)\n",
      "  Using cached jsonpatch-1.33-py2.py3-none-any.whl (12 kB)\n",
      "Collecting dataclasses-json<0.7.0,>=0.6.7 (from langchain-community->ragas)\n",
      "  Using cached dataclasses_json-0.6.7-py3-none-any.whl (28 kB)\n",
      "Collecting pydantic-settings<3.0.0,>=2.10.1 (from langchain-community->ragas)\n",
      "  Using cached pydantic_settings-2.11.0-py3-none-any.whl (48 kB)\n",
      "Collecting httpx-sse<1.0.0,>=0.4.0 (from langchain-community->ragas)\n",
      "  Downloading httpx_sse-0.4.2-py3-none-any.whl (9.0 kB)\n",
      "Collecting regex>=2022.1.18 (from tiktoken->ragas)\n",
      "  Using cached regex-2025.9.18-cp311-cp311-macosx_11_0_arm64.whl (286 kB)\n",
      "Collecting scipy>=1.7.3 (from scikit-network->ragas)\n",
      "  Downloading scipy-1.16.2-cp311-cp311-macosx_14_0_arm64.whl (20.9 MB)\n",
      "\u001b[2K     \u001b[90m━━━━━━━━━━━━━━━━━━━━━━━━━━━━━━━━━━━━━━━━\u001b[0m \u001b[32m20.9/20.9 MB\u001b[0m \u001b[31m8.1 MB/s\u001b[0m eta \u001b[36m0:00:00\u001b[0m00:01\u001b[0m00:01\u001b[0mm\n",
      "\u001b[?25hRequirement already satisfied: aiohappyeyeballs>=2.5.0 in ./.venv/lib/python3.11/site-packages (from aiohttp<4.0.0,>=3.9.1->instructor->ragas) (2.6.1)\n",
      "Requirement already satisfied: aiosignal>=1.4.0 in ./.venv/lib/python3.11/site-packages (from aiohttp<4.0.0,>=3.9.1->instructor->ragas) (1.4.0)\n",
      "Requirement already satisfied: attrs>=17.3.0 in ./.venv/lib/python3.11/site-packages (from aiohttp<4.0.0,>=3.9.1->instructor->ragas) (25.4.0)\n",
      "Requirement already satisfied: frozenlist>=1.1.1 in ./.venv/lib/python3.11/site-packages (from aiohttp<4.0.0,>=3.9.1->instructor->ragas) (1.8.0)\n",
      "Requirement already satisfied: multidict<7.0,>=4.5 in ./.venv/lib/python3.11/site-packages (from aiohttp<4.0.0,>=3.9.1->instructor->ragas) (6.7.0)\n",
      "Requirement already satisfied: propcache>=0.2.0 in ./.venv/lib/python3.11/site-packages (from aiohttp<4.0.0,>=3.9.1->instructor->ragas) (0.4.0)\n",
      "Requirement already satisfied: yarl<2.0,>=1.17.0 in ./.venv/lib/python3.11/site-packages (from aiohttp<4.0.0,>=3.9.1->instructor->ragas) (1.22.0)\n",
      "Requirement already satisfied: idna>=2.8 in ./.venv/lib/python3.11/site-packages (from anyio<5,>=3.5.0->openai>=1.0.0->ragas) (3.10)\n",
      "Collecting marshmallow<4.0.0,>=3.18.0 (from dataclasses-json<0.7.0,>=0.6.7->langchain-community->ragas)\n",
      "  Using cached marshmallow-3.26.1-py3-none-any.whl (50 kB)\n",
      "Collecting typing-inspect<1,>=0.4.0 (from dataclasses-json<0.7.0,>=0.6.7->langchain-community->ragas)\n",
      "  Using cached typing_inspect-0.9.0-py3-none-any.whl (8.8 kB)\n",
      "Collecting smmap<6,>=3.0.1 (from gitdb<5,>=4.0.1->gitpython->ragas)\n",
      "  Using cached smmap-5.0.2-py3-none-any.whl (24 kB)\n",
      "Requirement already satisfied: certifi in ./.venv/lib/python3.11/site-packages (from httpx<1,>=0.23.0->openai>=1.0.0->ragas) (2025.10.5)\n",
      "Requirement already satisfied: httpcore==1.* in ./.venv/lib/python3.11/site-packages (from httpx<1,>=0.23.0->openai>=1.0.0->ragas) (1.0.9)\n",
      "Requirement already satisfied: h11>=0.16 in ./.venv/lib/python3.11/site-packages (from httpcore==1.*->httpx<1,>=0.23.0->openai>=1.0.0->ragas) (0.16.0)\n",
      "Requirement already satisfied: hf-xet<2.0.0,>=1.1.3 in ./.venv/lib/python3.11/site-packages (from huggingface-hub>=0.24.0->datasets>=4.0.0->ragas) (1.1.10)\n",
      "Collecting MarkupSafe>=2.0 (from jinja2<4.0.0,>=3.1.4->instructor->ragas)\n",
      "  Using cached markupsafe-3.0.3-cp311-cp311-macosx_11_0_arm64.whl (12 kB)\n",
      "Collecting jsonpointer>=1.9 (from jsonpatch<2.0.0,>=1.33.0->langchain-core->ragas)\n",
      "  Using cached jsonpointer-3.0.0-py2.py3-none-any.whl (7.6 kB)\n",
      "Collecting orjson>=3.9.14 (from langsmith>=0.1.17->langchain->ragas)\n",
      "  Using cached orjson-3.11.3-cp311-cp311-macosx_15_0_arm64.whl (127 kB)\n",
      "Collecting requests-toolbelt>=1.0.0 (from langsmith>=0.1.17->langchain->ragas)\n",
      "  Using cached requests_toolbelt-1.0.0-py2.py3-none-any.whl (54 kB)\n",
      "Collecting zstandard>=0.23.0 (from langsmith>=0.1.17->langchain->ragas)\n",
      "  Using cached zstandard-0.25.0-cp311-cp311-macosx_11_0_arm64.whl (640 kB)\n",
      "Collecting mdurl~=0.1 (from markdown-it-py>=2.2.0->rich->ragas)\n",
      "  Using cached mdurl-0.1.2-py3-none-any.whl (10.0 kB)\n",
      "Collecting python-dotenv>=0.21.0 (from pydantic-settings<3.0.0,>=2.10.1->langchain-community->ragas)\n",
      "  Using cached python_dotenv-1.1.1-py3-none-any.whl (20 kB)\n",
      "Requirement already satisfied: charset_normalizer<4,>=2 in ./.venv/lib/python3.11/site-packages (from requests>=2.32.2->datasets>=4.0.0->ragas) (3.4.3)\n",
      "Requirement already satisfied: urllib3<3,>=1.21.1 in ./.venv/lib/python3.11/site-packages (from requests>=2.32.2->datasets>=4.0.0->ragas) (2.5.0)\n",
      "Requirement already satisfied: python-dateutil>=2.8.2 in ./.venv/lib/python3.11/site-packages (from pandas->datasets>=4.0.0->ragas) (2.9.0.post0)\n",
      "Requirement already satisfied: pytz>=2020.1 in ./.venv/lib/python3.11/site-packages (from pandas->datasets>=4.0.0->ragas) (2025.2)\n",
      "Requirement already satisfied: tzdata>=2022.7 in ./.venv/lib/python3.11/site-packages (from pandas->datasets>=4.0.0->ragas) (2025.2)\n",
      "Requirement already satisfied: six>=1.5 in ./.venv/lib/python3.11/site-packages (from python-dateutil>=2.8.2->pandas->datasets>=4.0.0->ragas) (1.17.0)\n",
      "Collecting mypy-extensions>=0.3.0 (from typing-inspect<1,>=0.4.0->dataclasses-json<0.7.0,>=0.6.7->langchain-community->ragas)\n",
      "  Using cached mypy_extensions-1.1.0-py3-none-any.whl (5.0 kB)\n",
      "Installing collected packages: appdirs, zstandard, tenacity, SQLAlchemy, smmap, shellingham, scipy, regex, python-dotenv, pillow, orjson, networkx, mypy-extensions, mdurl, marshmallow, MarkupSafe, jsonpointer, jiter, httpx-sse, docstring-parser, diskcache, click, typing-inspect, tiktoken, scikit-network, requests-toolbelt, markdown-it-py, jsonpatch, jinja2, gitdb, rich, pydantic-settings, openai, langsmith, gitpython, dataclasses-json, typer, langchain-core, langchain-text-splitters, langchain_openai, instructor, langchain, langchain-community, ragas\n",
      "  Attempting uninstall: jiter\n",
      "    Found existing installation: jiter 0.11.0\n",
      "    Uninstalling jiter-0.11.0:\n",
      "      Successfully uninstalled jiter-0.11.0\n",
      "  Attempting uninstall: openai\n",
      "    Found existing installation: openai 2.2.0\n",
      "    Uninstalling openai-2.2.0:\n",
      "      Successfully uninstalled openai-2.2.0\n",
      "Successfully installed MarkupSafe-3.0.3 SQLAlchemy-2.0.43 appdirs-1.4.4 click-8.3.0 dataclasses-json-0.6.7 diskcache-5.6.3 docstring-parser-0.17.0 gitdb-4.0.12 gitpython-3.1.45 httpx-sse-0.4.2 instructor-1.11.3 jinja2-3.1.6 jiter-0.10.0 jsonpatch-1.33 jsonpointer-3.0.0 langchain-0.3.27 langchain-community-0.3.31 langchain-core-0.3.78 langchain-text-splitters-0.3.11 langchain_openai-0.3.35 langsmith-0.4.33 markdown-it-py-4.0.0 marshmallow-3.26.1 mdurl-0.1.2 mypy-extensions-1.1.0 networkx-3.5 openai-1.109.1 orjson-3.11.3 pillow-11.3.0 pydantic-settings-2.11.0 python-dotenv-1.1.1 ragas-0.3.6 regex-2025.9.18 requests-toolbelt-1.0.0 rich-14.1.0 scikit-network-0.33.3 scipy-1.16.2 shellingham-1.5.4 smmap-5.0.2 tenacity-9.1.2 tiktoken-0.12.0 typer-0.19.2 typing-inspect-0.9.0 zstandard-0.25.0\n",
      "\n",
      "\u001b[1m[\u001b[0m\u001b[34;49mnotice\u001b[0m\u001b[1;39;49m]\u001b[0m\u001b[39;49m A new release of pip is available: \u001b[0m\u001b[31;49m23.1.2\u001b[0m\u001b[39;49m -> \u001b[0m\u001b[32;49m25.2\u001b[0m\n",
      "\u001b[1m[\u001b[0m\u001b[34;49mnotice\u001b[0m\u001b[1;39;49m]\u001b[0m\u001b[39;49m To update, run: \u001b[0m\u001b[32;49mpip install --upgrade pip\u001b[0m\n"
     ]
    }
   ],
   "source": [
    "!pip install ragas"
   ]
  },
  {
   "cell_type": "code",
   "execution_count": null,
   "metadata": {},
   "outputs": [
    {
     "ename": "ImportError",
     "evalue": "cannot import name 'context_relevancy' from 'ragas.metrics' (/Users/sally/Workspace/AI-SERVICE/rag_practical/.venv/lib/python3.11/site-packages/ragas/metrics/__init__.py)",
     "output_type": "error",
     "traceback": [
      "\u001b[31m---------------------------------------------------------------------------\u001b[39m",
      "\u001b[31mImportError\u001b[39m                               Traceback (most recent call last)",
      "\u001b[36mCell\u001b[39m\u001b[36m \u001b[39m\u001b[32mIn[19]\u001b[39m\u001b[32m, line 3\u001b[39m\n\u001b[32m      1\u001b[39m \u001b[38;5;28;01mfrom\u001b[39;00m\u001b[38;5;250m \u001b[39m\u001b[34;01mdatasets\u001b[39;00m\u001b[38;5;250m \u001b[39m\u001b[38;5;28;01mimport\u001b[39;00m Dataset\n\u001b[32m      2\u001b[39m \u001b[38;5;28;01mfrom\u001b[39;00m\u001b[38;5;250m \u001b[39m\u001b[34;01mragas\u001b[39;00m\u001b[38;5;250m \u001b[39m\u001b[38;5;28;01mimport\u001b[39;00m evaluate\n\u001b[32m----> \u001b[39m\u001b[32m3\u001b[39m \u001b[38;5;28;01mfrom\u001b[39;00m\u001b[38;5;250m \u001b[39m\u001b[34;01mragas\u001b[39;00m\u001b[34;01m.\u001b[39;00m\u001b[34;01mmetrics\u001b[39;00m\u001b[38;5;250m \u001b[39m\u001b[38;5;28;01mimport\u001b[39;00m faithfulness, answer_correctness, context_relevancy, context_recall, context_precision\n\u001b[32m      6\u001b[39m data_samples = {\n\u001b[32m      7\u001b[39m     \u001b[33m'\u001b[39m\u001b[33mquestion\u001b[39m\u001b[33m'\u001b[39m: questions,\n\u001b[32m      8\u001b[39m     \u001b[33m'\u001b[39m\u001b[33manswer\u001b[39m\u001b[33m'\u001b[39m: predictions,\n\u001b[32m      9\u001b[39m     \u001b[33m'\u001b[39m\u001b[33mground_truth\u001b[39m\u001b[33m'\u001b[39m: answers\n\u001b[32m     10\u001b[39m }\n\u001b[32m     12\u001b[39m dataset = Dataset.from_dict(data_samples)\n",
      "\u001b[31mImportError\u001b[39m: cannot import name 'context_relevancy' from 'ragas.metrics' (/Users/sally/Workspace/AI-SERVICE/rag_practical/.venv/lib/python3.11/site-packages/ragas/metrics/__init__.py)"
     ]
    }
   ],
   "source": [
    "from datasets import Dataset\n",
    "from ragas import evaluate\n",
    "from ragas.metrics import answer_correctness\n",
    "\n",
    "data_samples = {\n",
    "    'question': questions,\n",
    "    'answer': predictions,\n",
    "    'ground_truth': answers\n",
    "}\n",
    "\n",
    "dataset = Dataset.from_dict(data_samples)\n",
    "\n",
    "score = evaluate(dataset, metrics=[answer_correctness])\n",
    "score"
   ]
  },
  {
   "cell_type": "code",
   "execution_count": 9,
   "metadata": {},
   "outputs": [
    {
     "name": "stdout",
     "output_type": "stream",
     "text": [
      "글로벌 저금리 현상이 부각된 원인은 여러 가지가 있습니다. 주요 원인으로는 다음과 같은 요소들이 있습니다:\n",
      "\n",
      "1. **완화적 통화정책**: 2008년 글로벌 금융위기 이후 미국, 유럽, 일본 등 주요국들이 경제를 회복시키기 위해 완화적 통화정책을 시행하였습니다. 이러한 정책은 금리를 낮추고 유동성을 공급하여 경제를 부양하려는 목적이 있었습니다.\n",
      "\n",
      "2. **경제구조적 요인**: 글로벌 금융위기 이전부터 이어진 경제구조적 요인들도 저금리 현상에 기여하였습니다. 예를 들어, 선진국의 성장세 둔화와 신흥국의 성장으로 인해 글로벌 무역 불균형이 심화되고, 저축과잉현상(global savings glut)이 발생하였습니다.\n",
      "\n",
      "3. **코로나 팬데믹**: 최근 코로나 사태로 인해 경제가 큰 타격을 받으면서, 각국 중앙은행들은 다시 한 번 완화적 통화정책을 강화하였습니다. 이로 인해 저금리 기조가 더욱 부각되었습니다.\n",
      "\n",
      "이러한 요인들이 복합적으로 작용하여 글로벌 저금리 현상이 지속되고 있습니다.\n"
     ]
    }
   ],
   "source": [
    "print(predictions[0])"
   ]
  },
  {
   "cell_type": "code",
   "execution_count": 10,
   "metadata": {},
   "outputs": [
    {
     "name": "stdout",
     "output_type": "stream",
     "text": [
      "글로벌 저금리 현상이 부각된 원인은 여러 가지입니다. 첫째, 2008년 글로벌 금융위기를 극복하는 과정에서 미국, 유럽, 일본 등 주요국의 완화적 통화정책이 있습니다. 둘째, 선진국의 성장세가 둔화되고, 신흥국이 성장하면서 글로벌 무역 불균형이 심화되고 저축과잉현상이 발생했습니다. 셋째, 기술발전에 따른 자본재 가격 하락과 신기술 혁신에 따른 수익률이 낮아져 경제 전체적인 유효투자가 감소했습니다. 넷째, 세계적인 인구증가율 감소 추세는 유효수요 및 자본의 한계생산성과 투자이익 및 투자증가율을 감소시켰습니다. 따라서 이러한 요인들이 복합적으로 작용하여 글로벌 저금리 현상이 부각되었습니다.\n"
     ]
    }
   ],
   "source": [
    "print(answers[0])"
   ]
  },
  {
   "cell_type": "code",
   "execution_count": null,
   "metadata": {},
   "outputs": [],
   "source": []
  }
 ],
 "metadata": {
  "kernelspec": {
   "display_name": ".venv",
   "language": "python",
   "name": "python3"
  },
  "language_info": {
   "codemirror_mode": {
    "name": "ipython",
    "version": 3
   },
   "file_extension": ".py",
   "mimetype": "text/x-python",
   "name": "python",
   "nbconvert_exporter": "python",
   "pygments_lexer": "ipython3",
   "version": "3.11.4"
  }
 },
 "nbformat": 4,
 "nbformat_minor": 2
}
